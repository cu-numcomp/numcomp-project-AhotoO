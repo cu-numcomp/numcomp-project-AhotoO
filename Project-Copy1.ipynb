{
 "cells": [
  {
   "cell_type": "markdown",
   "metadata": {},
   "source": [
    "# Kwesi Obika CSCI 3656 Project 1\n",
    "\n",
    "Reveiwing spline interpolation through the use of Blender's F curve interpolation."
   ]
  },
  {
   "cell_type": "code",
   "execution_count": 11,
   "metadata": {},
   "outputs": [],
   "source": [
    "import numpy as np\n",
    "from matplotlib import pyplot as plt "
   ]
  },
  {
   "cell_type": "code",
   "execution_count": 10,
   "metadata": {},
   "outputs": [
    {
     "data": {
      "text/html": [
       "<img src = ./blender_logo_socket.png>\n"
      ],
      "text/plain": [
       "<IPython.core.display.HTML object>"
      ]
     },
     "metadata": {},
     "output_type": "display_data"
    }
   ],
   "source": [
    "\n",
    "%%html\n",
    "<img src = ./blender_logo_socket.png>"
   ]
  },
  {
   "cell_type": "markdown",
   "metadata": {},
   "source": [
    "A popular open source animation and 3D modeling tool with python and unity plug ins for easy project expansion"
   ]
  },
  {
   "cell_type": "markdown",
   "metadata": {},
   "source": [
    "For blenders animation it interpolates the key frames based on various spline methods. Thoses incluse Constant, Linear, Bezier, as well as functions ranging from sinusoidal to circlar as well as custom function like elastic, bounce and back. "
   ]
  },
  {
   "cell_type": "markdown",
   "metadata": {},
   "source": [
    " I animated very simple window  of a box jumping. This simple animation can help depict the effects of how each interpolation method handles the area between the keyframes. $[x,y,z]_{frame}$ \n",
    " \n",
    " $[0,-6,0]_0,[0,0,3]_50,[0,6,0]_100$"
   ]
  },
  {
   "cell_type": "markdown",
   "metadata": {},
   "source": [
    "We can look at the transition in the y plane and the transition in the z plane as two seperate groups of data being interpolated. "
   ]
  },
  {
   "cell_type": "code",
   "execution_count": 31,
   "metadata": {},
   "outputs": [
    {
     "data": {
      "image/png": "[encoded data removed]",
      "text/plain": [
       "<Figure size 432x288 with 1 Axes>"
      ]
     },
     "metadata": {
      "needs_background": "light"
     },
     "output_type": "display_data"
    },
    {
     "data": {
      "image/png": "[encoded data removed]",
      "text/plain": [
       "<Figure size 432x288 with 1 Axes>"
      ]
     },
     "metadata": {
      "needs_background": "light"
     },
     "output_type": "display_data"
    }
   ],
   "source": [
    "\n",
    "#plt.plot([1, 2, 3, 4], [1, 4, 9, 16], 'ro')\n",
    "#plt.axis([0, 6, 0, 20])\n",
    "plt.title(\"Y Axis Key Frame Points\") \n",
    "plt.xlabel(\"Frame Number\") \n",
    "plt.ylabel(\"y axis position\") \n",
    "plt.plot([0, 50, 100], [-6, 0, 6], 'ro')\n",
    "plt.axis([0, 110, -7, 7])\n",
    "plt.show()\n",
    "plt.title(\"Z Axis Key Frame Points\") \n",
    "plt.xlabel(\"Frame Number\") \n",
    "plt.ylabel(\"z axis position\") \n",
    "plt.plot([0, 50, 100], [0, 3, 0], 'go')\n",
    "plt.axis([0, 110, -7, 7])\n",
    "plt.show()"
   ]
  },
  {
   "cell_type": "markdown",
   "metadata": {},
   "source": [
    "Constant interpolation for Blender is just a piece wise function remaining constant until the next keyframe\n",
    "\n",
    "$ y_{pos}$ = {-6 if x < 50, 0 if x < 100 & x $\\geq$ 50, 6 if x $\\geq$ 100"
   ]
  },
  {
   "cell_type": "markdown",
   "metadata": {},
   "source": [
    "Linear interpolation uses two keyframes to discribe the behavior between them.\n",
    "$$ Y(frame) = p_0(y_{end}- frame) + frame(p_{end})$$\n",
    "$$ Y(frame) = -6(50-frame) + frame(0)$$"
   ]
  },
  {
   "cell_type": "markdown",
   "metadata": {},
   "source": [
    "Bezier curves require three points otherwise it is merely a linear interpolation since it creates two linear functions one for the behaviour between points a and b the other for points between b and c. \n",
    "    $$Y_0(frame) = p_a(b-frame)+frame(p_b) $$\n",
    "    $$Y_1(frame) = p_b(c-frame)+frame(p_c) $$\n",
    "    $$Bezi(frame) = (c-frame)Y_0(frame)+ frame(Y_1(frame))$$"
   ]
  },
  {
   "cell_type": "code",
   "execution_count": 37,
   "metadata": {},
   "outputs": [
    {
     "data": {
      "text/html": [
       "\n",
       "\n",
       "<iframe width=\"900\" height=\"506\" src=\"https://www.youtube.com/embed/pnYccz1Ha34\"></iframe>\n"
      ],
      "text/plain": [
       "<IPython.core.display.HTML object>"
      ]
     },
     "metadata": {},
     "output_type": "display_data"
    }
   ],
   "source": [
    "%%html\n",
    "\n",
    "\n",
    "<iframe width=\"900\" height=\"506\" src=\"https://www.youtube.com/embed/pnYccz1Ha34\"></iframe>\n"
   ]
  },
  {
   "cell_type": "code",
   "execution_count": null,
   "metadata": {},
   "outputs": [],
   "source": []
  }
 ],
 "metadata": {
  "kernelspec": {
   "display_name": "Python 3",
   "language": "python",
   "name": "python3"
  },
  "language_info": {
   "codemirror_mode": {
    "name": "ipython",
    "version": 3
   },
   "file_extension": ".py",
   "mimetype": "text/x-python",
   "name": "python",
   "nbconvert_exporter": "python",
   "pygments_lexer": "ipython3",
   "version": "3.7.4"
  }
 },
 "nbformat": 4,
 "nbformat_minor": 4
}
